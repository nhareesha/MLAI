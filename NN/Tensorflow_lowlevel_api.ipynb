{
  "nbformat": 4,
  "nbformat_minor": 0,
  "metadata": {
    "colab": {
      "provenance": [],
      "authorship_tag": "ABX9TyOmebx+fmiDBLH7qsW1Sjip",
      "include_colab_link": true
    },
    "kernelspec": {
      "name": "python3",
      "display_name": "Python 3"
    },
    "language_info": {
      "name": "python"
    }
  },
  "cells": [
    {
      "cell_type": "markdown",
      "metadata": {
        "id": "view-in-github",
        "colab_type": "text"
      },
      "source": [
        "<a href=\"https://colab.research.google.com/github/nhareesha/MLAI/blob/main/NN/Tensorflow_lowlevel_api.ipynb\" target=\"_parent\"><img src=\"https://colab.research.google.com/assets/colab-badge.svg\" alt=\"Open In Colab\"/></a>"
      ]
    },
    {
      "cell_type": "code",
      "execution_count": 1,
      "metadata": {
        "id": "DUjOJLZVQyVP"
      },
      "outputs": [],
      "source": [
        "import tensorflow as tf"
      ]
    },
    {
      "cell_type": "code",
      "source": [
        "# Creating basic tensors\n",
        "scalar = tf.constant(5)\n",
        "# Tensor properties\n",
        "print(scalar.shape)  # Shape\n",
        "print(scalar.dtype)  # Data type\n",
        "\n",
        "vector = tf.constant([1, 2, 3]) # vectore\n",
        "# Tensor properties\n",
        "print(vector.shape)  # Shape\n",
        "print(vector.dtype)  # Data type\n",
        "\n",
        "matrix = tf.constant([[1, 2], [3, 4]])\n",
        "# Tensor properties\n",
        "print(matrix.shape)  # Shape\n",
        "print(matrix.dtype)  # Data type\n",
        "\n",
        "matrix3d = tf.constant([[[1, 2, 3], [3, 4, 4]], [[11, 32, 33], [13, 34,34]]])\n",
        "# Tensor properties\n",
        "print(matrix3d.shape)  # Shape\n",
        "print(matrix3d.dtype)  # Data type"
      ],
      "metadata": {
        "colab": {
          "base_uri": "https://localhost:8080/"
        },
        "id": "m8uVlmfoRI5l",
        "outputId": "30eeaf15-8556-4f12-864b-0905b9794668"
      },
      "execution_count": 2,
      "outputs": [
        {
          "output_type": "stream",
          "name": "stdout",
          "text": [
            "()\n",
            "<dtype: 'int32'>\n",
            "(3,)\n",
            "<dtype: 'int32'>\n",
            "(2, 2)\n",
            "<dtype: 'int32'>\n",
            "(2, 2, 3)\n",
            "<dtype: 'int32'>\n"
          ]
        }
      ]
    },
    {
      "cell_type": "markdown",
      "source": [
        "# Basic Operation - Tensor Low level"
      ],
      "metadata": {
        "id": "AYFYGOOSWgzC"
      }
    },
    {
      "cell_type": "code",
      "source": [
        "a = tf.constant([1, 2, 3])\n",
        "b = tf.constant([4, 5, 6])\n",
        "\n",
        "# Addtion Element wise\n",
        "add_result = tf.add(a, b)\n",
        "print(add_result)\n",
        "\n",
        "# Multiplication Element wise\n",
        "multiplication_result = tf.multiply(a, b) # Vector\n",
        "print(multiplication_result) # Vector\n",
        "\n",
        "\n",
        "# Matrix operations\n",
        "matrix_a = tf.constant([[1, 2], [3, 4]])\n",
        "matrix_b = tf.constant([[5, 6], [7, 8]])\n",
        "\n",
        "# Matrix multiplication\n",
        "matrix_mult = tf.matmul(matrix_a, matrix_b)\n",
        "print(matrix_mult) # Matrix\n",
        "\n"
      ],
      "metadata": {
        "colab": {
          "base_uri": "https://localhost:8080/"
        },
        "id": "rgqfzjccWc6P",
        "outputId": "2f1a243a-06a3-42ca-944f-46103d139b66"
      },
      "execution_count": 3,
      "outputs": [
        {
          "output_type": "stream",
          "name": "stdout",
          "text": [
            "tf.Tensor([5 7 9], shape=(3,), dtype=int32)\n",
            "tf.Tensor([ 4 10 18], shape=(3,), dtype=int32)\n",
            "tf.Tensor(\n",
            "[[19 22]\n",
            " [43 50]], shape=(2, 2), dtype=int32)\n"
          ]
        }
      ]
    },
    {
      "cell_type": "markdown",
      "source": [
        "# Variable Creation and Management"
      ],
      "metadata": {
        "id": "IkCIJ4avZ1Sb"
      }
    },
    {
      "cell_type": "code",
      "source": [
        "# Creating trainable variables\n",
        "\n",
        "weight = tf.Variable(tf.random.normal([3,3]), name = 'weight') # 2 by 2 matrix\n",
        "\n",
        "bias = tf.Variable(tf.zeros([3]), name = 'bias') # Vector\n",
        "\n",
        "print(weight)\n",
        "print(bias)\n",
        "\n",
        "\n",
        "\n",
        "# Variable operations\n",
        "weight.assign(tf.ones([3, 3]))  # Direct assignment\n",
        "\n",
        "print(weight)\n",
        "print(bias)\n",
        "\n",
        "weight.assign_add(tf.ones([3, 3]))  # Incremental update\n",
        "\n",
        "print(weight)\n",
        "print(bias)"
      ],
      "metadata": {
        "colab": {
          "base_uri": "https://localhost:8080/"
        },
        "id": "1iLSEIoZZ2uR",
        "outputId": "b9796df4-2355-407b-b6cd-469424e7acdc"
      },
      "execution_count": 4,
      "outputs": [
        {
          "output_type": "stream",
          "name": "stdout",
          "text": [
            "<tf.Variable 'weight:0' shape=(3, 3) dtype=float32, numpy=\n",
            "array([[ 1.3063682 , -0.8999266 ,  0.9155995 ],\n",
            "       [ 0.8136504 , -0.01450668, -0.32933256],\n",
            "       [ 0.5656933 , -0.33271763,  0.03785708]], dtype=float32)>\n",
            "<tf.Variable 'bias:0' shape=(3,) dtype=float32, numpy=array([0., 0., 0.], dtype=float32)>\n",
            "<tf.Variable 'weight:0' shape=(3, 3) dtype=float32, numpy=\n",
            "array([[1., 1., 1.],\n",
            "       [1., 1., 1.],\n",
            "       [1., 1., 1.]], dtype=float32)>\n",
            "<tf.Variable 'bias:0' shape=(3,) dtype=float32, numpy=array([0., 0., 0.], dtype=float32)>\n",
            "<tf.Variable 'weight:0' shape=(3, 3) dtype=float32, numpy=\n",
            "array([[2., 2., 2.],\n",
            "       [2., 2., 2.],\n",
            "       [2., 2., 2.]], dtype=float32)>\n",
            "<tf.Variable 'bias:0' shape=(3,) dtype=float32, numpy=array([0., 0., 0.], dtype=float32)>\n"
          ]
        }
      ]
    },
    {
      "cell_type": "code",
      "source": [
        "weight = tf.Variable(tf.random.uniform([3, 3]), name = \"hello\")\n",
        "\n",
        "print(weight)"
      ],
      "metadata": {
        "colab": {
          "base_uri": "https://localhost:8080/"
        },
        "id": "QnADpofkeuYe",
        "outputId": "2d619298-fe50-43c1-cbb4-c4b0783f4f1f"
      },
      "execution_count": 5,
      "outputs": [
        {
          "output_type": "stream",
          "name": "stdout",
          "text": [
            "<tf.Variable 'hello:0' shape=(3, 3) dtype=float32, numpy=\n",
            "array([[0.5956855 , 0.41738212, 0.03541696],\n",
            "       [0.32384956, 0.88524175, 0.12071586],\n",
            "       [0.04110122, 0.6383003 , 0.07538295]], dtype=float32)>\n"
          ]
        }
      ]
    },
    {
      "cell_type": "markdown",
      "source": [
        " ### TensorFlow requires the use of `tf.custom_gradient` decorator to define custom gradients.\n",
        "\n",
        "\n",
        " `@tf.custom_gradient decorator`. It knows that:\n",
        "\n",
        "- The first element is the output tensor.\n",
        "- The second element is the gradient function used for backpropagation.( callable that defines the gradient.)\n",
        "\n",
        "\n",
        "- If` y `is the final output used in a loss function, then `incoming_grad` is often 1 (scalar) when computing the gradient of the loss with respect to y.\n",
        "- If `y` is part of a larger computation graph, `incoming_grad` will be the gradient of the subsequent operations with respect to y."
      ],
      "metadata": {
        "id": "7LrIMmMB3sXM"
      }
    },
    {
      "cell_type": "code",
      "source": [
        "# Custom Gradient computation\n",
        "\n",
        "@tf.custom_gradient\n",
        "def custom_operation(x):\n",
        "\n",
        "  def grad(incoming_grad):\n",
        "    print(incoming_grad)\n",
        "    return incoming_grad * 2.0 * x # Define the custom gradient\n",
        "\n",
        "  return x * x, grad\n",
        "\n",
        "\n",
        "# Example usage\n",
        "X = tf.Variable(tf.random.normal([3, 2]), name = \"X\")\n",
        "\n",
        "print(X)\n",
        "\n",
        "# Records the operations on varaible during forward pass\n",
        "with tf.GradientTape() as tape:\n",
        "  tape.watch(X)\n",
        "  y = custom_operation(X)\n",
        "\n",
        "# Calculated gradiets wrt to loss function (y)\n",
        "gradient = tape.gradient(y, X)\n",
        "print(gradient)"
      ],
      "metadata": {
        "colab": {
          "base_uri": "https://localhost:8080/"
        },
        "id": "cNzknwJNz-OK",
        "outputId": "c857ee94-4030-4817-da32-db60286ccdfc"
      },
      "execution_count": 15,
      "outputs": [
        {
          "output_type": "stream",
          "name": "stdout",
          "text": [
            "<tf.Variable 'X:0' shape=(3, 2) dtype=float32, numpy=\n",
            "array([[-2.4422212 , -0.83448416],\n",
            "       [ 1.7488308 ,  0.24138296],\n",
            "       [-0.740779  , -0.60193884]], dtype=float32)>\n",
            "tf.Tensor(\n",
            "[[1. 1.]\n",
            " [1. 1.]\n",
            " [1. 1.]], shape=(3, 2), dtype=float32)\n",
            "tf.Tensor(\n",
            "[[-4.8844423 -1.6689683]\n",
            " [ 3.4976616  0.4827659]\n",
            " [-1.481558  -1.2038777]], shape=(3, 2), dtype=float32)\n"
          ]
        }
      ]
    },
    {
      "cell_type": "markdown",
      "source": [
        "## Tensor Manipulation"
      ],
      "metadata": {
        "id": "0XpnjWH79P6g"
      }
    },
    {
      "cell_type": "code",
      "source": [
        "tensor = tf.constant([[1, 2],[3, 4]])\n",
        "\n",
        "print(tensor)\n",
        "\n",
        "reshaped = tf.reshape(tensor, [4])\n",
        "\n",
        "print(reshaped)\n",
        "\n",
        "# Casting\n",
        "float_tensor = tf.cast(tensor, tf.float32)\n",
        "\n",
        "# Slicing\n",
        "sliced = tensor[0:1, :] # first row and all columns\n",
        "\n",
        "print(sliced)"
      ],
      "metadata": {
        "colab": {
          "base_uri": "https://localhost:8080/"
        },
        "id": "Z2CBrUEe9Q4X",
        "outputId": "0e8a70d2-3a9b-4535-deb2-105ae7648e35"
      },
      "execution_count": 23,
      "outputs": [
        {
          "output_type": "stream",
          "name": "stdout",
          "text": [
            "tf.Tensor(\n",
            "[[1 2]\n",
            " [3 4]], shape=(2, 2), dtype=int32)\n",
            "tf.Tensor([1 2 3 4], shape=(4,), dtype=int32)\n",
            "tf.Tensor([[1]], shape=(1, 1), dtype=int32)\n"
          ]
        }
      ]
    },
    {
      "cell_type": "markdown",
      "source": [
        "## Memory Management\n",
        "\n",
        "\n",
        "`tf.random.normal([1000, 1000])`: This operation creates a `1000x1000` matrix of random values drawn from a normal distribution, and it is **explicitly placed on the GPU**."
      ],
      "metadata": {
        "id": "IKpr9jOkDQWx"
      }
    },
    {
      "cell_type": "code",
      "source": [
        "# Explicit memory management\n",
        "with tf.device('/GPU:0'):\n",
        "    gpu_tensor = tf.random.normal([1000, 1000])\n",
        "\n",
        "# Memory clearing\n",
        "tf.keras.backend.clear_session()"
      ],
      "metadata": {
        "id": "bFBNvVcMDQHy"
      },
      "execution_count": null,
      "outputs": []
    }
  ]
}